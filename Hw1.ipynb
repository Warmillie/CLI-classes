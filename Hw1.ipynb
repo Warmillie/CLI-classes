{
  "nbformat": 4,
  "nbformat_minor": 0,
  "metadata": {
    "colab": {
      "provenance": [],
      "authorship_tag": "ABX9TyPQvW2GyFTtaeGaHFF05uiu",
      "include_colab_link": true
    },
    "kernelspec": {
      "name": "python3",
      "display_name": "Python 3"
    },
    "language_info": {
      "name": "python"
    }
  },
  "cells": [
    {
      "cell_type": "markdown",
      "metadata": {
        "id": "view-in-github",
        "colab_type": "text"
      },
      "source": [
        "<a href=\"https://colab.research.google.com/github/Warmillie/CLI-classes/blob/main/Hw1.ipynb\" target=\"_parent\"><img src=\"https://colab.research.google.com/assets/colab-badge.svg\" alt=\"Open In Colab\"/></a>"
      ]
    },
    {
      "cell_type": "code",
      "execution_count": 1,
      "metadata": {
        "colab": {
          "base_uri": "https://localhost:8080/"
        },
        "id": "vbWOaI0IJj89",
        "outputId": "5b5eda12-8cd4-432a-8b8b-9965c0202464"
      },
      "outputs": [
        {
          "output_type": "stream",
          "name": "stdout",
          "text": [
            "[ 1  2  3  4  5  6  7  8  9 10]\n"
          ]
        }
      ],
      "source": [
        "import numpy as np\n",
        "vector = np.arange(1, 11)\n",
        "print(vector)"
      ]
    },
    {
      "cell_type": "code",
      "source": [
        "matrix_3x3 = np.zeros((3, 3))\n",
        "print(matrix_3x3)"
      ],
      "metadata": {
        "colab": {
          "base_uri": "https://localhost:8080/"
        },
        "id": "_pnLBJgYJspV",
        "outputId": "079894e8-bc05-4fda-f320-574e89ae9cd6"
      },
      "execution_count": 2,
      "outputs": [
        {
          "output_type": "stream",
          "name": "stdout",
          "text": [
            "[[0. 0. 0.]\n",
            " [0. 0. 0.]\n",
            " [0. 0. 0.]]\n"
          ]
        }
      ]
    },
    {
      "cell_type": "code",
      "source": [
        "matrix_5x5 = np.random.randint(1, 11, (5, 5))\n",
        "print(matrix_5x5)"
      ],
      "metadata": {
        "colab": {
          "base_uri": "https://localhost:8080/"
        },
        "id": "f3sz-hvzJu_e",
        "outputId": "93e5d94b-80d1-4815-f979-1d8c119fa1b7"
      },
      "execution_count": 3,
      "outputs": [
        {
          "output_type": "stream",
          "name": "stdout",
          "text": [
            "[[ 6  4  6  7  3]\n",
            " [ 5  6  7  1  4]\n",
            " [ 7  5  8  9  1]\n",
            " [ 8  2  9 10  8]\n",
            " [ 1  4  7  3  6]]\n"
          ]
        }
      ]
    },
    {
      "cell_type": "code",
      "source": [
        "matrix_4x4 = np.random.rand(4, 4)\n",
        "print(matrix_4x4)"
      ],
      "metadata": {
        "colab": {
          "base_uri": "https://localhost:8080/"
        },
        "id": "6j73tRj9JyLb",
        "outputId": "f21adad9-7737-44a7-8f67-6ff1f26b356c"
      },
      "execution_count": 4,
      "outputs": [
        {
          "output_type": "stream",
          "name": "stdout",
          "text": [
            "[[0.48508448 0.05075115 0.04985496 0.88804262]\n",
            " [0.51391026 0.07779585 0.18881304 0.70827141]\n",
            " [0.9912616  0.86623397 0.33524998 0.50251519]\n",
            " [0.8469554  0.83811323 0.91864169 0.5812528 ]]\n"
          ]
        }
      ]
    },
    {
      "cell_type": "code",
      "source": [
        "array_1 = np.random.randint(1, 11, 5)\n",
        "array_2 = np.random.randint(1, 11, 5)\n",
        "print(\"Масив 1:\", array_1)\n",
        "print(\"Масив 2:\", array_2)\n",
        "print(\"Додавання:\", array_1 + array_2)\n",
        "print(\"Віднімання:\", array_1 - array_2)\n",
        "print(\"Множення:\", array_1 * array_2)"
      ],
      "metadata": {
        "colab": {
          "base_uri": "https://localhost:8080/"
        },
        "id": "LoqLD0tqJ0ZS",
        "outputId": "4b61c0f3-7d5c-4680-e5c8-92ab777b72c2"
      },
      "execution_count": 5,
      "outputs": [
        {
          "output_type": "stream",
          "name": "stdout",
          "text": [
            "Масив 1: [10  4  5  1  8]\n",
            "Масив 2: [4 6 6 6 7]\n",
            "Додавання: [14 10 11  7 15]\n",
            "Віднімання: [ 6 -2 -1 -5  1]\n",
            "Множення: [40 24 30  6 56]\n"
          ]
        }
      ]
    },
    {
      "cell_type": "code",
      "source": [
        "vector_1 = np.random.random(7)\n",
        "vector_2 = np.random.random(7)\n",
        "scalar_product = np.dot(vector_1, vector_2)\n",
        "print(\"Вектор 1:\", vector_1)\n",
        "print(\"Вектор 2:\", vector_2)\n",
        "print(\"Скалярний добуток:\", scalar_product)"
      ],
      "metadata": {
        "colab": {
          "base_uri": "https://localhost:8080/"
        },
        "id": "qv6o1SKUJ3L4",
        "outputId": "2c85c92a-53e6-44f3-bb9b-9ad2726d19c0"
      },
      "execution_count": 6,
      "outputs": [
        {
          "output_type": "stream",
          "name": "stdout",
          "text": [
            "Вектор 1: [0.56366797 0.82048999 0.07790545 0.13732209 0.18927657 0.92773677\n",
            " 0.1291243 ]\n",
            "Вектор 2: [0.45753025 0.795968   0.66721257 0.05835719 0.29862779 0.14928552\n",
            " 0.18244933]\n",
            "Скалярний добуток: 1.189551698214453\n"
          ]
        }
      ]
    },
    {
      "cell_type": "code",
      "source": [
        "matrix_2x2 = np.random.randint(1, 11, (2, 2))\n",
        "matrix_2x3 = np.random.randint(1, 11, (2, 3))\n",
        "product_2x2_2x3 = np.dot(matrix_2x2, matrix_2x3)\n",
        "print(\"Матриця 2x2:\\n\", matrix_2x2)\n",
        "print(\"Матриця 2x3:\\n\", matrix_2x3)\n",
        "print(\"Їхній добуток:\\n\", product_2x2_2x3)"
      ],
      "metadata": {
        "colab": {
          "base_uri": "https://localhost:8080/"
        },
        "id": "RjD5M6R0J5oX",
        "outputId": "af8eaa09-9d98-4b4f-c630-7a08c1140fd9"
      },
      "execution_count": 7,
      "outputs": [
        {
          "output_type": "stream",
          "name": "stdout",
          "text": [
            "Матриця 2x2:\n",
            " [[10 10]\n",
            " [ 3  3]]\n",
            "Матриця 2x3:\n",
            " [[ 4 10  1]\n",
            " [10  2  6]]\n",
            "Їхній добуток:\n",
            " [[140 120  70]\n",
            " [ 42  36  21]]\n"
          ]
        }
      ]
    },
    {
      "cell_type": "code",
      "source": [
        "matrix_3x3_random = np.random.randint(1, 11, (3, 3))\n",
        "inverse_matrix = np.linalg.inv(matrix_3x3_random)\n",
        "print(matrix_3x3_random)\n",
        "print(\"Її обернена матриця:\")\n",
        "print(inverse_matrix)"
      ],
      "metadata": {
        "colab": {
          "base_uri": "https://localhost:8080/"
        },
        "id": "7U4R5g8-J8A9",
        "outputId": "271622d6-35d2-4b50-ee11-0cd3ace1525a"
      },
      "execution_count": 8,
      "outputs": [
        {
          "output_type": "stream",
          "name": "stdout",
          "text": [
            "[[1 6 1]\n",
            " [6 2 9]\n",
            " [5 9 9]]\n",
            "Її обернена матриця:\n",
            "[[ 0.8630137   0.61643836 -0.71232877]\n",
            " [ 0.12328767 -0.05479452  0.04109589]\n",
            " [-0.60273973 -0.28767123  0.46575342]]\n"
          ]
        }
      ]
    },
    {
      "cell_type": "code",
      "source": [
        "matrix_4x4_random = np.random.rand(4, 4)\n",
        "transposed_matrix = np.transpose(matrix_4x4_random)\n",
        "print(matrix_4x4_random)\n",
        "print(\"Транспонована матриця:\")\n",
        "print(transposed_matrix)\n"
      ],
      "metadata": {
        "colab": {
          "base_uri": "https://localhost:8080/"
        },
        "id": "Up91LQqlJ_A-",
        "outputId": "35cf4f9a-f926-4102-f053-a051b7d9b88d"
      },
      "execution_count": 9,
      "outputs": [
        {
          "output_type": "stream",
          "name": "stdout",
          "text": [
            "[[0.51350973 0.4172769  0.40122964 0.66677692]\n",
            " [0.71217739 0.08485389 0.89164248 0.11781598]\n",
            " [0.37141138 0.07257115 0.75516104 0.45564389]\n",
            " [0.32339067 0.39048979 0.99774477 0.78788262]]\n",
            "Транспонована матриця:\n",
            "[[0.51350973 0.71217739 0.37141138 0.32339067]\n",
            " [0.4172769  0.08485389 0.07257115 0.39048979]\n",
            " [0.40122964 0.89164248 0.75516104 0.99774477]\n",
            " [0.66677692 0.11781598 0.45564389 0.78788262]]\n"
          ]
        }
      ]
    },
    {
      "cell_type": "code",
      "source": [
        "matrix_3x4 = np.random.randint(1, 11, (3, 4))\n",
        "vector_4 = np.random.randint(1, 11, 4)\n",
        "product_3x4_vector = np.dot(matrix_3x4, vector_4)\n",
        "print(\"Матриця 3x4:\\n\", matrix_3x4)\n",
        "print(\"Вектор 4:\", vector_4)\n",
        "print(\"Їхній добуток:\", product_3x4_vector)"
      ],
      "metadata": {
        "colab": {
          "base_uri": "https://localhost:8080/"
        },
        "id": "XE3m6DFhKBfz",
        "outputId": "2199051b-53e4-4980-c121-1bd67848e909"
      },
      "execution_count": 10,
      "outputs": [
        {
          "output_type": "stream",
          "name": "stdout",
          "text": [
            "Матриця 3x4:\n",
            " [[ 3  8  9  3]\n",
            " [ 1  1 10  1]\n",
            " [ 6 10  3  9]]\n",
            "Вектор 4: [10  4  9  4]\n",
            "Їхній добуток: [155 108 163]\n"
          ]
        }
      ]
    },
    {
      "cell_type": "code",
      "source": [
        "matrix_2x3_random = np.random.rand(2, 3)\n",
        "vector_3 = np.random.rand(3)\n",
        "product_2x3_vector = np.dot(matrix_2x3_random, vector_3)\n",
        "print(\"Матриця 2x3:\\n\", matrix_2x3_random)\n",
        "print(\"Вектор 3:\", vector_3)\n",
        "print(\"Їхній добуток:\", product_2x3_vector)"
      ],
      "metadata": {
        "colab": {
          "base_uri": "https://localhost:8080/"
        },
        "id": "Qw0NrweEKDuS",
        "outputId": "a811f567-3f01-4302-eb0a-4420118565d1"
      },
      "execution_count": 11,
      "outputs": [
        {
          "output_type": "stream",
          "name": "stdout",
          "text": [
            "Матриця 2x3:\n",
            " [[0.45599214 0.47677746 0.44152745]\n",
            " [0.13165275 0.74762391 0.65516548]]\n",
            "Вектор 3: [0.28066706 0.02494399 0.94558637]\n",
            "Їхній добуток: [0.55737704 0.67511487]\n"
          ]
        }
      ]
    },
    {
      "cell_type": "code",
      "source": [
        "matrix_a_2x2 = np.random.randint(1, 11, (2, 2))\n",
        "matrix_b_2x2 = np.random.randint(1, 11, (2, 2))\n",
        "elementwise_multiplication = matrix_a_2x2 * matrix_b_2x2\n",
        "print(\"Матриця A:\\n\", matrix_a_2x2)\n",
        "print(\"Матриця B:\\n\", matrix_b_2x2)\n",
        "print(\"Поелементне множення:\\n\", elementwise_multiplication)"
      ],
      "metadata": {
        "colab": {
          "base_uri": "https://localhost:8080/"
        },
        "id": "sBC5CHLNKGPb",
        "outputId": "e086f0ed-c58e-4c88-8c1f-6a35eeee59b8"
      },
      "execution_count": 12,
      "outputs": [
        {
          "output_type": "stream",
          "name": "stdout",
          "text": [
            "Матриця A:\n",
            " [[8 8]\n",
            " [3 7]]\n",
            "Матриця B:\n",
            " [[8 9]\n",
            " [9 9]]\n",
            "Поелементне множення:\n",
            " [[64 72]\n",
            " [27 63]]\n"
          ]
        }
      ]
    },
    {
      "cell_type": "code",
      "source": [
        "matrix_a_2x2_product = np.dot(matrix_a_2x2, matrix_b_2x2)\n",
        "print(\"\\nДобуток двох матриць розміром 2x2:\")\n",
        "print(matrix_a_2x2_product)\n"
      ],
      "metadata": {
        "colab": {
          "base_uri": "https://localhost:8080/"
        },
        "id": "Z6YXocSxKImx",
        "outputId": "da2d00a8-8a14-4abc-dd95-c45214882a07"
      },
      "execution_count": 13,
      "outputs": [
        {
          "output_type": "stream",
          "name": "stdout",
          "text": [
            "\n",
            "Добуток двох матриць розміром 2x2:\n",
            "[[136 144]\n",
            " [ 87  90]]\n"
          ]
        }
      ]
    },
    {
      "cell_type": "code",
      "source": [
        "matrix_5x5_sum = np.random.randint(1, 101, (5, 5))\n",
        "sum_elements = np.sum(matrix_5x5_sum)\n",
        "print(matrix_5x5_sum)\n",
        "print(\"Сума елементів матриці:\", sum_elements)"
      ],
      "metadata": {
        "colab": {
          "base_uri": "https://localhost:8080/"
        },
        "id": "HkOJvak2KNdr",
        "outputId": "7728fb3d-da7f-4bf0-852b-40adb1273e3a"
      },
      "execution_count": 14,
      "outputs": [
        {
          "output_type": "stream",
          "name": "stdout",
          "text": [
            "[[10 75 10 26 79]\n",
            " [66 59 78 44 73]\n",
            " [53 15 51 43 41]\n",
            " [71 36 63  4 61]\n",
            " [34 58 66 24 49]]\n",
            "Сума елементів матриці: 1189\n"
          ]
        }
      ]
    },
    {
      "cell_type": "code",
      "source": [
        "matrix_a_4x4 = np.random.randint(1, 11, (4, 4))\n",
        "matrix_b_4x4 = np.random.randint(1, 11, (4, 4))\n",
        "difference = matrix_a_4x4 - matrix_b_4x4\n",
        "print(\"Матриця A:\\n\", matrix_a_4x4)\n",
        "print(\"Матриця B:\\n\", matrix_b_4x4)\n",
        "print(\"Різниця:\\n\", difference)"
      ],
      "metadata": {
        "colab": {
          "base_uri": "https://localhost:8080/"
        },
        "id": "OXTzdxClKPRx",
        "outputId": "288c7452-6039-42e6-9294-8c1714506d70"
      },
      "execution_count": 15,
      "outputs": [
        {
          "output_type": "stream",
          "name": "stdout",
          "text": [
            "Матриця A:\n",
            " [[ 8  4  8  3]\n",
            " [ 6  1  3 10]\n",
            " [ 2 10  4  5]\n",
            " [ 7  6  5  3]]\n",
            "Матриця B:\n",
            " [[ 4  7  3  9]\n",
            " [ 8  6  6  9]\n",
            " [ 6  4  8  7]\n",
            " [ 9 10 10  2]]\n",
            "Різниця:\n",
            " [[ 4 -3  5 -6]\n",
            " [-2 -5 -3  1]\n",
            " [-4  6 -4 -2]\n",
            " [-2 -4 -5  1]]\n"
          ]
        }
      ]
    },
    {
      "cell_type": "code",
      "source": [
        "matrix_3x3_sums = np.random.rand(3, 3)\n",
        "row_sums = np.sum(matrix_3x3_sums, axis=1).reshape(-1, 1)\n",
        "print(matrix_3x3_sums)\n",
        "print(\"Вектор-стовпчик сум кожного рядка:\")\n",
        "print(row_sums)"
      ],
      "metadata": {
        "colab": {
          "base_uri": "https://localhost:8080/"
        },
        "id": "fnfkUIOdKRvV",
        "outputId": "355ed165-eacb-4437-c207-f7e835022504"
      },
      "execution_count": 16,
      "outputs": [
        {
          "output_type": "stream",
          "name": "stdout",
          "text": [
            "[[0.96428159 0.20950678 0.12646628]\n",
            " [0.70587356 0.51979711 0.74020355]\n",
            " [0.31394855 0.67329614 0.48306239]]\n",
            "Вектор-стовпчик сум кожного рядка:\n",
            "[[1.30025465]\n",
            " [1.96587422]\n",
            " [1.47030709]]\n"
          ]
        }
      ]
    },
    {
      "cell_type": "code",
      "source": [
        "matrix_3x4_squares = np.random.randint(1, 11, (3, 4))\n",
        "squared_matrix = np.square(matrix_3x4_squares)\n",
        "print(matrix_3x4_squares)\n",
        "print(\"Матриця з квадратами цих чисел:\")\n",
        "print(squared_matrix)"
      ],
      "metadata": {
        "colab": {
          "base_uri": "https://localhost:8080/"
        },
        "id": "DLEwHtn4KUXx",
        "outputId": "e7451bd2-0d34-464d-94f0-9d9b38758524"
      },
      "execution_count": 17,
      "outputs": [
        {
          "output_type": "stream",
          "name": "stdout",
          "text": [
            "[[8 1 8 1]\n",
            " [7 2 3 3]\n",
            " [7 4 1 4]]\n",
            "Матриця з квадратами цих чисел:\n",
            "[[64  1 64  1]\n",
            " [49  4  9  9]\n",
            " [49 16  1 16]]\n"
          ]
        }
      ]
    },
    {
      "cell_type": "code",
      "source": [
        "vector_4_sqrt = np.random.randint(1, 51, 4)\n",
        "sqrt_vector = np.sqrt(vector_4_sqrt)\n",
        "print(vector_4_sqrt)\n",
        "print(\"Вектор з квадратними коренями цих чисел:\")\n",
        "print(sqrt_vector)"
      ],
      "metadata": {
        "colab": {
          "base_uri": "https://localhost:8080/"
        },
        "id": "3yKTrtfjKXOX",
        "outputId": "4ec270d9-9d04-42b5-e0b3-255b029170e2"
      },
      "execution_count": 18,
      "outputs": [
        {
          "output_type": "stream",
          "name": "stdout",
          "text": [
            "[44  3 22 29]\n",
            "Вектор з квадратними коренями цих чисел:\n",
            "[6.63324958 1.73205081 4.69041576 5.38516481]\n"
          ]
        }
      ]
    }
  ]
}